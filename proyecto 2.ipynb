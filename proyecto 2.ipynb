{
  "nbformat": 4,
  "nbformat_minor": 0,
  "metadata": {
    "colab": {
      "provenance": [],
      "authorship_tag": "ABX9TyMMq+9XC+uK1J+mZqGdHR5Q",
      "include_colab_link": true
    },
    "kernelspec": {
      "name": "python3",
      "display_name": "Python 3"
    },
    "language_info": {
      "name": "python"
    }
  },
  "cells": [
    {
      "cell_type": "markdown",
      "metadata": {
        "id": "view-in-github",
        "colab_type": "text"
      },
      "source": [
        "<a href=\"https://colab.research.google.com/github/jesspl/prediction/blob/main/proyecto%202.ipynb\" target=\"_parent\"><img src=\"https://colab.research.google.com/assets/colab-badge.svg\" alt=\"Open In Colab\"/></a>"
      ]
    },
    {
      "cell_type": "markdown",
      "source": [],
      "metadata": {
        "id": "LLH9NJKjt7eS"
      }
    },
    {
      "cell_type": "markdown",
      "source": [
        "Primera opción: conjunto de datos 1\n",
        "\n",
        "1) Fuente de datos\n",
        "\n",
        "https://www.kaggle.com/datasets/ayessa/top-100-anime-movies-imdb\n",
        "\n",
        "https://www.kaggle.com/competitions/store-sales-time-series-forecasting/data?select=transactions.csv\n",
        "\n",
        "2) Breve descripción de datos\n",
        "\n",
        "Los datos son una lista de 100 peliculas que tienen el puntaje de las mejores peliculas de todos los tiempos, enlistadas por genero y valoracion\n",
        "\n",
        "\n",
        "3) ¿Cuál es el objetivo?\n",
        "\n",
        "Realizar una relacion del puntaje de la peliculas por su genero y su crecimiento en la industria\n",
        "\n",
        "4) ¿Este es un problema de clasificación o regresión?\n",
        "\n",
        "es de clasificacion\n",
        "\n",
        "5) ¿Cuántas características hay?\n",
        " 8 caracteristicas\n",
        "\n",
        "6) ¿Cuántas filas de datos hay?\n",
        " 100 filas\n",
        "\n",
        "\n",
        "7) ¿Qué retos, si es que hay alguno, prevén en la limpieza, exploración o modelización con este conjunto de datos?\n",
        "\n",
        "la informacion de datos vacios y que el ti pode columnas twnga un error por simbologia"
      ],
      "metadata": {
        "id": "YQ66OtXbubQW"
      }
    },
    {
      "cell_type": "markdown",
      "source": [
        "Primera opción: conjunto de datos 2\n",
        "\n",
        "1) Fuente de datos\n",
        "\n",
        "https://www.kaggle.com/datasets/ayessa/top-100-anime-movies-imdb\n",
        "\n",
        "https://www.kaggle.com/competitions/store-sales-time-series-forecasting/data?select=transactions.csv\n",
        "\n",
        "2) Breve descripción de datos\n",
        "\n",
        "Los datos son un conjunto de datos relacionado a los productos que se venden en las tiendas mas populares de ecuador\n",
        "\n",
        "3) ¿Cuál es el objetivo?\n",
        "\n",
        "Realizar una relacion de los productos mas probados por los usuarios\n",
        "\n",
        "4) ¿Este es un problema de clasificación o regresión?\n",
        "\n",
        "regresion\n",
        "\n",
        "5) ¿Cuántas características hay? \n",
        "\n",
        "6) ¿Cuántas filas de datos hay? \n",
        "\n",
        "7) ¿Qué retos, si es que hay alguno, prevén en la limpieza, exploración o modelización con este conjunto de datos?\n",
        "\n",
        "la informacion de datos vacios y que el tipo de columnas"
      ],
      "metadata": {
        "id": "dRCx5kUkv105"
      }
    },
    {
      "cell_type": "code",
      "execution_count": null,
      "metadata": {
        "id": "ai-UzBl5tn7t"
      },
      "outputs": [],
      "source": []
    }
  ]
}