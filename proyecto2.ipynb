{
  "nbformat": 4,
  "nbformat_minor": 0,
  "metadata": {
    "colab": {
      "provenance": [],
      "mount_file_id": "1okegSe5h5y2jN1TbYJpTPE8qfyEBunDW",
      "authorship_tag": "ABX9TyPh93mrTaHe7O1AJYYyKyok",
      "include_colab_link": true
    },
    "kernelspec": {
      "name": "python3",
      "display_name": "Python 3"
    },
    "language_info": {
      "name": "python"
    }
  },
  "cells": [
    {
      "cell_type": "markdown",
      "metadata": {
        "id": "view-in-github",
        "colab_type": "text"
      },
      "source": [
        "<a href=\"https://colab.research.google.com/github/jesspl/prediction/blob/main/proyecto2.ipynb\" target=\"_parent\"><img src=\"https://colab.research.google.com/assets/colab-badge.svg\" alt=\"Open In Colab\"/></a>"
      ]
    },
    {
      "cell_type": "markdown",
      "source": [
        "Proyecto 2 - Parte 2 (base)\n",
        "Al usar el conjunto de datos aprobado que propusieron para el proyecto 2, parte 1 la semana pasada, limpiarán y explorarán el conjunto de datos.  \n",
        "\n",
        "Para cumplir con los requisitos para esta semana, deben haber:\n",
        "\n",
        "-eliminado las columnas innecesarias\n",
        "\n",
        "-eliminado las filas duplicadas\n",
        "\n",
        "-identificado y abordado los valores faltantes \n",
        "\n",
        "-identificado y corregido las inconsistencias en los datos para los valores categóricos (es decir, Cat, cat, cats)\n",
        "\n",
        "-producido visuales univariantes para el objetivo y todas las características\n",
        "\n",
        "-identificado los valores atípicos\n",
        "\n",
        "-producido un mapa de calor de correlación e identificado cualquier correlaciones moderadas o fuertes entre el objetivo y las características y/o entre una característica y otra\n",
        "\n",
        "-comentado todos los pasos de limpieza y descrito todas las decisiones que tomaron. (Nota: durante la pila final del programa, harán una presentación para una audiencia técnica que incluirá sus decisiones y procesos en los pasos de limpieza. Entre más notas tomen ahora, más fácil será la presentación. Para clarificar, esa presentación NO se entrega ahora).\n",
        "\n",
        "Deberían comenzar a trabajar en su EDA* en profundidad y a hacer visuales multivariantes para la próxima parte 3 de esta tarea una vez que hayan presentado todas las tareas y el examen de cinturón para esta pila.\n",
        "\n",
        "Comprometan su archivo al repositorio Github y envíen el enlace abajo."
      ],
      "metadata": {
        "id": "RGBjBC2gExwJ"
      }
    },
    {
      "cell_type": "markdown",
      "source": [
        "https://www.kaggle.com/datasets/ppicardo/real-estate-offers-in-montevideo-uruguay"
      ],
      "metadata": {
        "id": "PjVW6z3iGEQp"
      }
    },
    {
      "cell_type": "code",
      "execution_count": 2,
      "metadata": {
        "colab": {
          "base_uri": "https://localhost:8080/",
          "height": 206
        },
        "id": "3nolsjCUEuiD",
        "outputId": "3d128041-11bf-4348-b1c0-dec67e657301"
      },
      "outputs": [
        {
          "output_type": "execute_result",
          "data": {
            "text/plain": [
              "   rank                                          title  rating    votes  year  \\\n",
              "0     1            Ramayana: The Legend of Prince Rama     9.2    7,549  1993   \n",
              "1     2                                  Spirited Away     8.6  756,112  2001   \n",
              "2     3  Meiji Tokyo Renka Movie: Yumihari no Serenade     8.5       39  2015   \n",
              "3     4         Natsu e no tunnel, Sayonara no deguchi     8.5       23  2022   \n",
              "4     5                     Attack on Titan: Chronicle     8.5   10,421  2020   \n",
              "\n",
              "   minutes                         genre    gross  \n",
              "0     97.0  Animation, Action, Adventure      NaN  \n",
              "1    125.0  Animation, Adventure, Family  $10.06M  \n",
              "2     60.0   Animation, Fantasy, Romance      NaN  \n",
              "3     83.0                     Animation      NaN  \n",
              "4    122.0  Animation, Action, Adventure      NaN  "
            ],
            "text/html": [
              "\n",
              "  <div id=\"df-7ca0fd83-3617-4f42-a3e2-11baf684856f\">\n",
              "    <div class=\"colab-df-container\">\n",
              "      <div>\n",
              "<style scoped>\n",
              "    .dataframe tbody tr th:only-of-type {\n",
              "        vertical-align: middle;\n",
              "    }\n",
              "\n",
              "    .dataframe tbody tr th {\n",
              "        vertical-align: top;\n",
              "    }\n",
              "\n",
              "    .dataframe thead th {\n",
              "        text-align: right;\n",
              "    }\n",
              "</style>\n",
              "<table border=\"1\" class=\"dataframe\">\n",
              "  <thead>\n",
              "    <tr style=\"text-align: right;\">\n",
              "      <th></th>\n",
              "      <th>rank</th>\n",
              "      <th>title</th>\n",
              "      <th>rating</th>\n",
              "      <th>votes</th>\n",
              "      <th>year</th>\n",
              "      <th>minutes</th>\n",
              "      <th>genre</th>\n",
              "      <th>gross</th>\n",
              "    </tr>\n",
              "  </thead>\n",
              "  <tbody>\n",
              "    <tr>\n",
              "      <th>0</th>\n",
              "      <td>1</td>\n",
              "      <td>Ramayana: The Legend of Prince Rama</td>\n",
              "      <td>9.2</td>\n",
              "      <td>7,549</td>\n",
              "      <td>1993</td>\n",
              "      <td>97.0</td>\n",
              "      <td>Animation, Action, Adventure</td>\n",
              "      <td>NaN</td>\n",
              "    </tr>\n",
              "    <tr>\n",
              "      <th>1</th>\n",
              "      <td>2</td>\n",
              "      <td>Spirited Away</td>\n",
              "      <td>8.6</td>\n",
              "      <td>756,112</td>\n",
              "      <td>2001</td>\n",
              "      <td>125.0</td>\n",
              "      <td>Animation, Adventure, Family</td>\n",
              "      <td>$10.06M</td>\n",
              "    </tr>\n",
              "    <tr>\n",
              "      <th>2</th>\n",
              "      <td>3</td>\n",
              "      <td>Meiji Tokyo Renka Movie: Yumihari no Serenade</td>\n",
              "      <td>8.5</td>\n",
              "      <td>39</td>\n",
              "      <td>2015</td>\n",
              "      <td>60.0</td>\n",
              "      <td>Animation, Fantasy, Romance</td>\n",
              "      <td>NaN</td>\n",
              "    </tr>\n",
              "    <tr>\n",
              "      <th>3</th>\n",
              "      <td>4</td>\n",
              "      <td>Natsu e no tunnel, Sayonara no deguchi</td>\n",
              "      <td>8.5</td>\n",
              "      <td>23</td>\n",
              "      <td>2022</td>\n",
              "      <td>83.0</td>\n",
              "      <td>Animation</td>\n",
              "      <td>NaN</td>\n",
              "    </tr>\n",
              "    <tr>\n",
              "      <th>4</th>\n",
              "      <td>5</td>\n",
              "      <td>Attack on Titan: Chronicle</td>\n",
              "      <td>8.5</td>\n",
              "      <td>10,421</td>\n",
              "      <td>2020</td>\n",
              "      <td>122.0</td>\n",
              "      <td>Animation, Action, Adventure</td>\n",
              "      <td>NaN</td>\n",
              "    </tr>\n",
              "  </tbody>\n",
              "</table>\n",
              "</div>\n",
              "      <button class=\"colab-df-convert\" onclick=\"convertToInteractive('df-7ca0fd83-3617-4f42-a3e2-11baf684856f')\"\n",
              "              title=\"Convert this dataframe to an interactive table.\"\n",
              "              style=\"display:none;\">\n",
              "        \n",
              "  <svg xmlns=\"http://www.w3.org/2000/svg\" height=\"24px\"viewBox=\"0 0 24 24\"\n",
              "       width=\"24px\">\n",
              "    <path d=\"M0 0h24v24H0V0z\" fill=\"none\"/>\n",
              "    <path d=\"M18.56 5.44l.94 2.06.94-2.06 2.06-.94-2.06-.94-.94-2.06-.94 2.06-2.06.94zm-11 1L8.5 8.5l.94-2.06 2.06-.94-2.06-.94L8.5 2.5l-.94 2.06-2.06.94zm10 10l.94 2.06.94-2.06 2.06-.94-2.06-.94-.94-2.06-.94 2.06-2.06.94z\"/><path d=\"M17.41 7.96l-1.37-1.37c-.4-.4-.92-.59-1.43-.59-.52 0-1.04.2-1.43.59L10.3 9.45l-7.72 7.72c-.78.78-.78 2.05 0 2.83L4 21.41c.39.39.9.59 1.41.59.51 0 1.02-.2 1.41-.59l7.78-7.78 2.81-2.81c.8-.78.8-2.07 0-2.86zM5.41 20L4 18.59l7.72-7.72 1.47 1.35L5.41 20z\"/>\n",
              "  </svg>\n",
              "      </button>\n",
              "      \n",
              "  <style>\n",
              "    .colab-df-container {\n",
              "      display:flex;\n",
              "      flex-wrap:wrap;\n",
              "      gap: 12px;\n",
              "    }\n",
              "\n",
              "    .colab-df-convert {\n",
              "      background-color: #E8F0FE;\n",
              "      border: none;\n",
              "      border-radius: 50%;\n",
              "      cursor: pointer;\n",
              "      display: none;\n",
              "      fill: #1967D2;\n",
              "      height: 32px;\n",
              "      padding: 0 0 0 0;\n",
              "      width: 32px;\n",
              "    }\n",
              "\n",
              "    .colab-df-convert:hover {\n",
              "      background-color: #E2EBFA;\n",
              "      box-shadow: 0px 1px 2px rgba(60, 64, 67, 0.3), 0px 1px 3px 1px rgba(60, 64, 67, 0.15);\n",
              "      fill: #174EA6;\n",
              "    }\n",
              "\n",
              "    [theme=dark] .colab-df-convert {\n",
              "      background-color: #3B4455;\n",
              "      fill: #D2E3FC;\n",
              "    }\n",
              "\n",
              "    [theme=dark] .colab-df-convert:hover {\n",
              "      background-color: #434B5C;\n",
              "      box-shadow: 0px 1px 3px 1px rgba(0, 0, 0, 0.15);\n",
              "      filter: drop-shadow(0px 1px 2px rgba(0, 0, 0, 0.3));\n",
              "      fill: #FFFFFF;\n",
              "    }\n",
              "  </style>\n",
              "\n",
              "      <script>\n",
              "        const buttonEl =\n",
              "          document.querySelector('#df-7ca0fd83-3617-4f42-a3e2-11baf684856f button.colab-df-convert');\n",
              "        buttonEl.style.display =\n",
              "          google.colab.kernel.accessAllowed ? 'block' : 'none';\n",
              "\n",
              "        async function convertToInteractive(key) {\n",
              "          const element = document.querySelector('#df-7ca0fd83-3617-4f42-a3e2-11baf684856f');\n",
              "          const dataTable =\n",
              "            await google.colab.kernel.invokeFunction('convertToInteractive',\n",
              "                                                     [key], {});\n",
              "          if (!dataTable) return;\n",
              "\n",
              "          const docLinkHtml = 'Like what you see? Visit the ' +\n",
              "            '<a target=\"_blank\" href=https://colab.research.google.com/notebooks/data_table.ipynb>data table notebook</a>'\n",
              "            + ' to learn more about interactive tables.';\n",
              "          element.innerHTML = '';\n",
              "          dataTable['output_type'] = 'display_data';\n",
              "          await google.colab.output.renderOutput(dataTable, element);\n",
              "          const docLink = document.createElement('div');\n",
              "          docLink.innerHTML = docLinkHtml;\n",
              "          element.appendChild(docLink);\n",
              "        }\n",
              "      </script>\n",
              "    </div>\n",
              "  </div>\n",
              "  "
            ]
          },
          "metadata": {},
          "execution_count": 2
        }
      ],
      "source": [
        "import pandas as pd\n",
        "df=pd.read_csv('/content/drive/MyDrive/Colab_notebooks/coding_dojo/semana8/top_100_anime_movie.csv')\n",
        "\n",
        "df.head()"
      ]
    },
    {
      "cell_type": "code",
      "source": [
        "# Revisar el numero de columnas y datos vacios\n",
        "print(df.info(), '\\n')\n",
        "print(df.isna().sum())"
      ],
      "metadata": {
        "colab": {
          "base_uri": "https://localhost:8080/"
        },
        "id": "RuHiGZIJF8yM",
        "outputId": "b79eeee4-9f42-4f91-c83c-2b952540e156"
      },
      "execution_count": 3,
      "outputs": [
        {
          "output_type": "stream",
          "name": "stdout",
          "text": [
            "<class 'pandas.core.frame.DataFrame'>\n",
            "RangeIndex: 100 entries, 0 to 99\n",
            "Data columns (total 8 columns):\n",
            " #   Column   Non-Null Count  Dtype  \n",
            "---  ------   --------------  -----  \n",
            " 0   rank     100 non-null    int64  \n",
            " 1   title    100 non-null    object \n",
            " 2   rating   100 non-null    float64\n",
            " 3   votes    100 non-null    object \n",
            " 4   year     100 non-null    int64  \n",
            " 5   minutes  96 non-null     float64\n",
            " 6   genre    100 non-null    object \n",
            " 7   gross    20 non-null     object \n",
            "dtypes: float64(2), int64(2), object(4)\n",
            "memory usage: 6.4+ KB\n",
            "None \n",
            "\n",
            "rank        0\n",
            "title       0\n",
            "rating      0\n",
            "votes       0\n",
            "year        0\n",
            "minutes     4\n",
            "genre       0\n",
            "gross      80\n",
            "dtype: int64\n"
          ]
        }
      ]
    },
    {
      "cell_type": "code",
      "source": [
        "#revision de datos duplicados\n",
        "df.duplicated().sum() #se olserva que no hat datos duplicados"
      ],
      "metadata": {
        "id": "3XybDeklGCrs"
      },
      "execution_count": null,
      "outputs": []
    },
    {
      "cell_type": "markdown",
      "source": [
        "La informacion en general tiene datos claros, de unas 100 filas por lo que son pocos datos en la base. \n",
        "\n",
        "\n",
        "revisando mas cuidadosamente los datos tienen mucha informacion vacia y no hay manera de relacionar costos de taquilla con costos de produccion por lo que siento que es una base de datos pobre, pedire revision de cambio de proyecto por la segunda opcion o por:\n",
        "\n",
        "https://www.kaggle.com/datasets/ppicardo/real-estate-offers-in-montevideo-uruguay"
      ],
      "metadata": {
        "id": "Q86Y1pkHGJYt"
      }
    }
  ]
}